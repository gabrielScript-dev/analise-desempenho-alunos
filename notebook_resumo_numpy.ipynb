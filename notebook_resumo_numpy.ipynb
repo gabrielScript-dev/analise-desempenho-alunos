{
 "cells": [
  {
   "cell_type": "markdown",
   "id": "c8a137f8",
   "metadata": {},
   "source": [
    "# 1) NumPy (Numerical Python) \n",
    "\n",
    "- biblioteca de código aberto usada para computação numérica e científica em Python. Ela oferece suporte a:\n",
    "\n",
    "    * Arrays e matrizes multidimensionais de alta performance (objeto ndarray)\n",
    "\n",
    "    * Funções matemáticas e estatísticas otimizadas\n",
    "\n",
    "    * Ferramentas para álgebra linear, transformadas de Fourier, geração de números aleatórios, entre outras\n",
    "\n",
    "    * NumPy é a base para bibliotecas como Pandas, SciPy, Scikit-learn e TensorFlow."
   ]
  },
  {
   "cell_type": "markdown",
   "id": "6f8a6e29",
   "metadata": {},
   "source": [
    "# 2) Principais Conceitos e Funcionalidades"
   ]
  },
  {
   "cell_type": "markdown",
   "id": "54fe44b9",
   "metadata": {},
   "source": [
    "1) Array N-dimensional: \n",
    "    * Objeto principal do NumPy. É uma estrutura similar a uma lista, porém mais eficiente e com operações vetorizadas.\n",
    "\n",
    "2) Características:\n",
    "\n",
    "    * Tipos de dados homogêneos\n",
    "\n",
    "    * Operações matemáticas aplicadas elemento a elemento\n",
    "\n",
    "    * Possui forma (shape), tipo (dtype), número de dimensões (ndim), etc."
   ]
  },
  {
   "cell_type": "code",
   "execution_count": null,
   "id": "a53642e1",
   "metadata": {},
   "outputs": [],
   "source": [
    "import numpy as np\n",
    "\n",
    "\n",
    "array_a = np.array([1, 2, 3])\n",
    "array_b = np.array([[1, 2], [3, 4]])\n",
    "\n",
    "print('Array A')\n",
    "print(array_a.shape)  # Forma\n",
    "print(array_a.ndim)   # Número de dimensões\n",
    "print(array_a.dtype)  # int64 (ou int32, dependendo do sistema)\n",
    "\n",
    "print('Array B')\n",
    "print(array_b.shape)  # Forma\n",
    "print(array_b.ndim)   # Número de dimensões\n",
    "print(array_b.dtype)  # int64 (ou int32, dependendo do sistema)"
   ]
  },
  {
   "cell_type": "markdown",
   "id": "e7a31ea5",
   "metadata": {},
   "source": [
    "# 3) Criação de Arrays\n"
   ]
  },
  {
   "cell_type": "markdown",
   "id": "b33f85c7",
   "metadata": {},
   "source": [
    "1. `np.zeros()`: \n",
    "    * Cria um array de zeros com forma (M, N), ou seja, com M linhas e N colunas.\n",
    "    * Todos os valores são 0.0 (float por padrão).\n",
    "    * Usado quando você quer iniciar uma matriz com zeros."
   ]
  },
  {
   "cell_type": "code",
   "execution_count": null,
   "id": "662052bc",
   "metadata": {},
   "outputs": [],
   "source": [
    "np.zeros((4, 3)) # 4 linhas e 3 colunas"
   ]
  },
  {
   "cell_type": "markdown",
   "id": "e6354c29",
   "metadata": {},
   "source": [
    "2. `np.ones()`:\n",
    "    * Cria um array de uns com forma (M, M), ou seja, uma matriz MxN preenchida com 1.0.\n",
    "    * Muito útil para inicializar matrizes com todos os valores iguais a 1."
   ]
  },
  {
   "cell_type": "code",
   "execution_count": 4,
   "id": "def70f3a",
   "metadata": {},
   "outputs": [
    {
     "data": {
      "text/plain": [
       "array([[1., 1., 1.],\n",
       "       [1., 1., 1.],\n",
       "       [1., 1., 1.]])"
      ]
     },
     "execution_count": 4,
     "metadata": {},
     "output_type": "execute_result"
    }
   ],
   "source": [
    "np.ones((3, 3)) # array de uns"
   ]
  },
  {
   "cell_type": "markdown",
   "id": "71839034",
   "metadata": {},
   "source": [
    "3. `np.eye()`:\n",
    "\n",
    "    * Cria uma matriz identidade MxN, sendo M = N.\n",
    "    * A matriz identidade tem 1s na diagonal principal e 0s no resto.\n",
    "    * Equivalente à identidade em álgebra linear.\n",
    "\n"
   ]
  },
  {
   "cell_type": "code",
   "execution_count": null,
   "id": "1bca2137",
   "metadata": {},
   "outputs": [],
   "source": [
    "np.eye(4) # matriz identidade"
   ]
  },
  {
   "cell_type": "markdown",
   "id": "e46b81dd",
   "metadata": {},
   "source": [
    "4. `np.arange(inicio, fim, paso)`:\n",
    "    * gera um array com valores começando com intervalo inicial até intervalo final (exclusivo), com uma passo específico.\n",
    "    * É semelhante à função range() do Python, mas retorna um array NumPy.\n",
    "    * Útil para gerar sequências com passo fixo."
   ]
  },
  {
   "cell_type": "code",
   "execution_count": null,
   "id": "878142d5",
   "metadata": {},
   "outputs": [],
   "source": [
    "np.arange(0, 10, 2) # gera um array com valores de 0 até 10 (exclusivo), com passo de 2."
   ]
  },
  {
   "cell_type": "markdown",
   "id": "4314c581",
   "metadata": {},
   "source": [
    " 5. np.linspace(inicio, fim, quantidade_de_termos)\n",
    "    * Gera N valores igualmente espaçados entre intervalo inicial e final (inclusive).\n",
    "    * Ao contrário do arange, você especifica o número de pontos, não o passo.\n",
    "    * Ideal para criar divisões uniformes de intervalos."
   ]
  },
  {
   "cell_type": "code",
   "execution_count": null,
   "id": "8dbb1888",
   "metadata": {},
   "outputs": [],
   "source": [
    "np.linspace(0, 1, 5) # Gera 5 valores igualmente espaçados entre 0 e 1 (inclusive)."
   ]
  }
 ],
 "metadata": {
  "kernelspec": {
   "display_name": "venv",
   "language": "python",
   "name": "python3"
  },
  "language_info": {
   "codemirror_mode": {
    "name": "ipython",
    "version": 3
   },
   "file_extension": ".py",
   "mimetype": "text/x-python",
   "name": "python",
   "nbconvert_exporter": "python",
   "pygments_lexer": "ipython3",
   "version": "3.12.1"
  }
 },
 "nbformat": 4,
 "nbformat_minor": 5
}
