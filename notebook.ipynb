{
 "cells": [
  {
   "cell_type": "markdown",
   "id": "51bb647f",
   "metadata": {},
   "source": [
    "# 1) Importar a biblioteca e criar o DataFrame"
   ]
  },
  {
   "cell_type": "markdown",
   "id": "e4f7caf2",
   "metadata": {},
   "source": [
    "- `pd.read_csv()`\n",
    "\n",
    "- O que faz:\n",
    "    * Lê um arquivo .csv e cria um DataFrame.\n",
    "\n",
    "- Sintaxe: `df = pd.read_csv('caminho/do/arquivo.csv')`\n",
    "\n",
    "- Parâmetros úteis:\n",
    "    * encoding='utf-8': codificação do texto\n",
    "    * parse_dates=['coluna']: converte colunas de data"
   ]
  },
  {
   "cell_type": "code",
   "execution_count": null,
   "id": "b780a5ac",
   "metadata": {},
   "outputs": [],
   "source": [
    "import pandas as pd\n",
    "\n",
    "df_school = pd.read_csv('./dataset_school.csv', parse_dates=['Data de Nascimento'])"
   ]
  },
  {
   "cell_type": "markdown",
   "id": "fb0df9a6",
   "metadata": {},
   "source": [
    "# 2) Visualizar os dados"
   ]
  },
  {
   "cell_type": "markdown",
   "id": "cdc52009",
   "metadata": {},
   "source": [
    "`head()`\n",
    "\n",
    "- O que faz: \n",
    "    * Exibe as primeiras N linhas do DataFrame.\n",
    "- Útil para: \n",
    "    * Ter uma visão geral inicial dos dados\n",
    "    * Verificar se o carregamento dos dados funcionou corretamente"
   ]
  },
  {
   "cell_type": "code",
   "execution_count": null,
   "id": "cdebe63f",
   "metadata": {},
   "outputs": [],
   "source": [
    "df_school.head(n=3) #Exibe N primeiras colunas"
   ]
  },
  {
   "cell_type": "markdown",
   "id": "bf483c35",
   "metadata": {},
   "source": [
    "`tail()`\n",
    "\n",
    "- O que faz:\n",
    "    * Exibe as últimas N linhas do DataFrame.\n",
    "- Útil para:\n",
    "    * Verificar se há dados no fim da tabela\n",
    "    * Conferir se houve problemas com leitura (ex: linhas em branco)"
   ]
  },
  {
   "cell_type": "code",
   "execution_count": null,
   "id": "d1cf838b",
   "metadata": {},
   "outputs": [],
   "source": [
    "df_school.tail(n=3)"
   ]
  },
  {
   "cell_type": "markdown",
   "id": "6baf2ec6",
   "metadata": {},
   "source": [
    "`describe()`\n",
    "\n",
    "- O que faz:\n",
    "    * Exibe estatísticas descritivas das colunas numéricas: média, desvio padrão, mínimo, máximo, quartis.\n",
    "- Útil para:\n",
    "    * Ter uma visão estatística geral dos dados numéricos"
   ]
  },
  {
   "cell_type": "code",
   "execution_count": null,
   "id": "c3b4a204",
   "metadata": {},
   "outputs": [],
   "source": [
    "df_school.describe()"
   ]
  },
  {
   "cell_type": "markdown",
   "id": "f40deaf4",
   "metadata": {},
   "source": [
    "`info()`\n",
    "\n",
    "- O que faz:\n",
    "    * Mostra:\n",
    "        * o número de linhas e colunas;\n",
    "        * tipo de dados de cada coluna;\n",
    "        * se há valores nulos.\n",
    "- Útil para:\n",
    "    * Diagnosticar estrutura e tipos dos dados\n",
    "    * Detectar colunas que precisam de conversão (ex: datas ou numéricos)"
   ]
  },
  {
   "cell_type": "code",
   "execution_count": null,
   "id": "118538aa",
   "metadata": {},
   "outputs": [],
   "source": [
    "df_school.info()"
   ]
  },
  {
   "cell_type": "markdown",
   "id": "f6a42ac4",
   "metadata": {},
   "source": [
    "`columns`\n",
    "\n",
    "- O que faz:\n",
    "    * Retorna uma lista com os nomes das colunas.\n",
    "\n",
    "- Útil para:\n",
    "    * Verificar os nomes das colunas;\n",
    "    * Identificar erros de digitação;\n",
    "    * Renomear colunas se necessário."
   ]
  },
  {
   "cell_type": "code",
   "execution_count": null,
   "id": "4a47e1e4",
   "metadata": {},
   "outputs": [],
   "source": [
    "df_school.columns"
   ]
  },
  {
   "cell_type": "markdown",
   "id": "e170f84f",
   "metadata": {},
   "source": [
    "# 3) Seleção de dados\n",
    "\n",
    "<center>\n",
    "    <img src=\"https://blog.manualdoexcel.com.br/wp-content/uploads/2020/07/01-sele%C3%A7%C3%A3o.gif\"> \n",
    "</center>"
   ]
  },
  {
   "cell_type": "code",
   "execution_count": null,
   "id": "3d9e0594",
   "metadata": {},
   "outputs": [],
   "source": [
    "df_school['Nome']\t# Seleciona somente a coluna Nome"
   ]
  },
  {
   "cell_type": "code",
   "execution_count": null,
   "id": "fa65397e",
   "metadata": {},
   "outputs": [],
   "source": [
    "df_school[['Nome', 'Serie']]\t# Seleciona múltiplas colunas através de uma lista"
   ]
  },
  {
   "cell_type": "markdown",
   "id": "0e36f3d9",
   "metadata": {},
   "source": [
    "* `loc[]` → Acesso por rótulo ou condição\n",
    "* `iloc[]` → Acesso por índice numérico"
   ]
  },
  {
   "cell_type": "markdown",
   "id": "e5c40425",
   "metadata": {},
   "source": [
    "- `loc[]`– Indexação por rótulo (label)\n",
    "    * usado quando você quer acessar elementos de um DataFrame ou Series usando os nomes dos índices e colunas.\n",
    "\n",
    "- Sintaxe:\n",
    "    `df.loc[linha, coluna]`\n",
    "\n",
    "    * linha: nome do índice (ou uma condição booleana)\n",
    "    * coluna: nome(s) da(s) coluna(s)\n"
   ]
  },
  {
   "cell_type": "code",
   "execution_count": null,
   "id": "dda4c826",
   "metadata": {},
   "outputs": [],
   "source": [
    "df_school.loc[1, ['Nome', 'Data de Nascimento']] # Acessando os dados da segunda linha, das colunas Nome e Data de Nascimento"
   ]
  },
  {
   "cell_type": "code",
   "execution_count": null,
   "id": "36e44411",
   "metadata": {},
   "outputs": [],
   "source": [
    "df_school.loc[1: 5, ['Nome', 'Serie']] # Acessando os dados da segunda até quarta linha, das colunas Nome e Serie"
   ]
  },
  {
   "cell_type": "markdown",
   "id": "e65a0672",
   "metadata": {},
   "source": [
    "- `iloc[]` – Indexação por posição (integer location)\n",
    "    * usado para acessar elementos com base na posição numérica das linhas e colunas.\n",
    "\n",
    "- Sintaxe:\n",
    "    `df.iloc[linha, coluna]`\n",
    "    * linha: número inteiro (ou fatia)\n",
    "    * coluna: número inteiro (ou fatia)"
   ]
  },
  {
   "cell_type": "code",
   "execution_count": null,
   "id": "d7b0f5c7",
   "metadata": {},
   "outputs": [],
   "source": [
    "# Acessar a primeira linha (posição 0)\n",
    "df_school.iloc[0]"
   ]
  },
  {
   "cell_type": "code",
   "execution_count": null,
   "id": "4294055e",
   "metadata": {},
   "outputs": [],
   "source": [
    "# Acessar valor da 2ª linha (índice 1) e 1ª coluna (índice 0)\n",
    "df_school.iloc[1, 0]"
   ]
  },
  {
   "cell_type": "code",
   "execution_count": null,
   "id": "6892ce5c",
   "metadata": {},
   "outputs": [],
   "source": [
    "# Acessar as duas primeiras linhas e todas as colunas\n",
    "df_school.iloc[:2, :]"
   ]
  },
  {
   "cell_type": "markdown",
   "id": "43e71e6b",
   "metadata": {},
   "source": [
    "# 4) Filtrar dados\n"
   ]
  },
  {
   "cell_type": "code",
   "execution_count": null,
   "id": "ef376967",
   "metadata": {},
   "outputs": [],
   "source": [
    "# Por condição simples:\n",
    "\n",
    "df_school[df_school['Nota_1U1'] >= 7]"
   ]
  },
  {
   "cell_type": "code",
   "execution_count": null,
   "id": "76df245e",
   "metadata": {},
   "outputs": [],
   "source": [
    "# Por múltiplas condições, utilizando os conectivos lógicos AND e OR:\n",
    "\n",
    "df_school[(df_school['Nota_1U1'] < 7) & (df_school['Serie'] == '7º ano')]"
   ]
  },
  {
   "cell_type": "code",
   "execution_count": null,
   "id": "9dead8d8",
   "metadata": {},
   "outputs": [],
   "source": [
    "# Por valor em lista:\n",
    "\n",
    "df_school[df_school['Serie'].isin(['7º ano', '8º ano'])] # Verifica se as séries 7º e 8° estão presentes na coluna Serie"
   ]
  },
  {
   "cell_type": "markdown",
   "id": "a7842836",
   "metadata": {},
   "source": [
    "# 5) Ordenar dados"
   ]
  },
  {
   "cell_type": "markdown",
   "id": "9e0bd668",
   "metadata": {},
   "source": [
    "- `sort_values()` — Ordenação por Coluna\n",
    "-  O que faz:\n",
    "    * Ordena os dados com base no valor de uma ou mais colunas.\n",
    "\n",
    "- Sintaxe: `df.sort_values(by='media_final', ascending=False)`\n",
    "- Parâmetros:\n",
    "    * by: nome(s) da(s) coluna(s)\n",
    "    * ascending: True (padrão) para crescente, False para decrescente\n",
    "    * inplace=True: modifica o DataFrame original"
   ]
  },
  {
   "cell_type": "code",
   "execution_count": null,
   "id": "8051798a",
   "metadata": {},
   "outputs": [],
   "source": [
    "df_school.sort_values(by='Nome', ascending=False)"
   ]
  },
  {
   "cell_type": "markdown",
   "id": "e3b1fdf0",
   "metadata": {},
   "source": [
    "- `sort_index()` — Ordenação por Índice\n",
    "\n",
    "- O que faz:\n",
    "    * Ordena o DataFrame pelo índice numérico ou nomeado (linha).\n",
    "\n",
    "- Sintaxe: `df.sort_index()`\n",
    "- Parâmetros:\n",
    "    * ascending=True ou False\n",
    "    * axis=0 para linhas (padrão), axis=1 para colunas\n"
   ]
  },
  {
   "cell_type": "code",
   "execution_count": null,
   "id": "95146165",
   "metadata": {},
   "outputs": [],
   "source": [
    "df_school.sort_index(ascending=False).head(n=3)"
   ]
  },
  {
   "cell_type": "markdown",
   "id": "f6e8eaf7",
   "metadata": {},
   "source": [
    "# 6) Agrupar dados"
   ]
  },
  {
   "cell_type": "markdown",
   "id": "2c64c051",
   "metadata": {},
   "source": [
    "- `groupby()` — Agrupamento de Dados\n",
    "\n",
    "- O que faz:\n",
    "    * Agrupa o DataFrame por uma ou mais colunas e permite aplicar funções estatísticas (como mean(), sum(), count(), etc.)"
   ]
  },
  {
   "cell_type": "markdown",
   "id": "31ac3fd9",
   "metadata": {},
   "source": [
    "- Exemplo 1: Média das notas finais por série"
   ]
  },
  {
   "cell_type": "code",
   "execution_count": null,
   "id": "57317aa6",
   "metadata": {},
   "outputs": [],
   "source": [
    "# axis=1 significa que vamos calcular média de todos os registros, linha por linha\n",
    "# Vamos criar novas colunas no DataFrame, chamadas MEDIA 1° SEMESTRE, MEDIA 2° SEMESTRE e MEDIA FINAL\n",
    "\n",
    "df_school['MEDIA 1° SEMESTRE'] = df_school[['Nota_1U1', 'Nota_1U2', 'Nota_1U3']].mean(axis=1) \n",
    "df_school['MEDIA 2° SEMESTRE'] = df_school[['Nota_2U1', 'Nota_2U2', 'Nota_2U3']].mean(axis=1)\n",
    "df_school['MEDIA FINAL'] = df_school[['MEDIA 1° SEMESTRE', 'MEDIA 2° SEMESTRE']].mean(axis=1)\n",
    "\n",
    "# Agora, agrupando por média final e série\n",
    "df_school.groupby('Serie')['MEDIA FINAL'].mean()"
   ]
  },
  {
   "cell_type": "markdown",
   "id": "b798b81e",
   "metadata": {},
   "source": [
    "- Exemplo 2: Quantidade de alunos por série"
   ]
  },
  {
   "cell_type": "code",
   "execution_count": null,
   "id": "f8bd166a",
   "metadata": {},
   "outputs": [],
   "source": [
    "df_school.groupby('Serie')['Nome'].count()"
   ]
  },
  {
   "cell_type": "markdown",
   "id": "ac51dc1d",
   "metadata": {},
   "source": [
    "- Exemplo 3: Notas médias por série (1º e 2º semestre separadamente)"
   ]
  },
  {
   "cell_type": "code",
   "execution_count": null,
   "id": "3441e7c7",
   "metadata": {},
   "outputs": [],
   "source": [
    "df_school.groupby('Serie')[['MEDIA 1° SEMESTRE', 'MEDIA 1° SEMESTRE']].mean()"
   ]
  }
 ],
 "metadata": {
  "kernelspec": {
   "display_name": "venv",
   "language": "python",
   "name": "python3"
  },
  "language_info": {
   "codemirror_mode": {
    "name": "ipython",
    "version": 3
   },
   "file_extension": ".py",
   "mimetype": "text/x-python",
   "name": "python",
   "nbconvert_exporter": "python",
   "pygments_lexer": "ipython3",
   "version": "3.12.1"
  }
 },
 "nbformat": 4,
 "nbformat_minor": 5
}
